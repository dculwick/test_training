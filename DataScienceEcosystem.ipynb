{
 "cells": [
  {
   "cell_type": "markdown",
   "id": "10db721f-cef1-4330-b688-cf4b48a88ae0",
   "metadata": {},
   "source": [
    "# Data Science Tools and Ecosystem #"
   ]
  },
  {
   "cell_type": "markdown",
   "id": "5846e1f1-5cff-4579-93da-ef92f7c9ec47",
   "metadata": {},
   "source": [
    "## Author: ##\n",
    "D. Culwick "
   ]
  },
  {
   "cell_type": "markdown",
   "id": "180b8c51",
   "metadata": {},
   "source": [
    "### Introduction ###"
   ]
  },
  {
   "cell_type": "markdown",
   "id": "e8a9a3e0-f507-492d-b4f9-3038e2caf413",
   "metadata": {},
   "source": [
    "In this notebook, Data Science Tools and Ecosystem are summarized."
   ]
  },
  {
   "cell_type": "markdown",
   "id": "4cc04c02-6ef8-4dff-a6a2-7dec77f07097",
   "metadata": {},
   "source": [
    "**Objectives:**\n",
    "  * List popular languages for Data Science\n",
    "  * List commonly used libraries for Data Science\n",
    "  * List common open-source tools for Data Science\n",
    "  * Demonstrate basic use of Markdown in Jupyter Notebook\n",
    "  * Show example code cell for basic arithmetic expressions in Python"
   ]
  },
  {
   "cell_type": "markdown",
   "id": "f7b1f1db-794b-438b-9aa4-e51150139fe3",
   "metadata": {},
   "source": [
    "Some of the popular languages that Data Scientists use are:\n",
    "1. Python\n",
    "2. R\n",
    "3. SQL"
   ]
  },
  {
   "cell_type": "markdown",
   "id": "b5841de4-7f7c-47ca-846f-4b725215ecdb",
   "metadata": {},
   "source": [
    "Some of the commonly used libraries used by Data Scientists include:\n",
    "1. Scientific Computing Libraries e.g. Pandas, NumPy\n",
    "2. Data Visualization e.g. matplotlib, seaborn\n",
    "3. Machine Learning and Deep Learning e.g. Scikit-learn, Keras TensorFlow, PyTorch\n"
   ]
  },
  {
   "cell_type": "markdown",
   "id": "6811f9bb-edb6-458a-884e-8e855db3980c",
   "metadata": {},
   "source": [
    "| Data Science Tools |\n",
    "| ------ |\n",
    "| Jupyter Notebooks |\n",
    "| RStudio |\n",
    "| GitHub |\n",
    "\n"
   ]
  },
  {
   "cell_type": "markdown",
   "id": "513e2f2f-0c79-467f-af3e-365c77312b55",
   "metadata": {},
   "source": [
    "### Below are a few examples of evaluating arithmetic expressions in Python ###"
   ]
  },
  {
   "cell_type": "code",
   "execution_count": 5,
   "id": "73982d90",
   "metadata": {},
   "outputs": [
    {
     "data": {
      "text/plain": [
       "17"
      ]
     },
     "execution_count": 5,
     "metadata": {},
     "output_type": "execute_result"
    }
   ],
   "source": [
    "# This a simple arithmetic expression to mutiply then add integers\n",
    "(3*4)+5"
   ]
  },
  {
   "cell_type": "code",
   "execution_count": 6,
   "id": "e2f1c5c2-134e-4b76-b291-6980b435b11c",
   "metadata": {},
   "outputs": [
    {
     "data": {
      "text/plain": [
       "3.3333333333333335"
      ]
     },
     "execution_count": 6,
     "metadata": {},
     "output_type": "execute_result"
    }
   ],
   "source": [
    "# This will convert 200 minutes to hours by diving by 60\n",
    "200 / 60"
   ]
  }
 ],
 "metadata": {
  "kernelspec": {
   "display_name": "Python 3 (ipykernel)",
   "language": "python",
   "name": "python3"
  },
  "language_info": {
   "codemirror_mode": {
    "name": "ipython",
    "version": 3
   },
   "file_extension": ".py",
   "mimetype": "text/x-python",
   "name": "python",
   "nbconvert_exporter": "python",
   "pygments_lexer": "ipython3",
   "version": "3.9.15"
  }
 },
 "nbformat": 4,
 "nbformat_minor": 5
}
